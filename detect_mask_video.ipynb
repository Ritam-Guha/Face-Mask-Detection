{
 "cells": [
  {
   "cell_type": "markdown",
   "metadata": {},
   "source": [
    "## Mask Detection in Videos "
   ]
  },
  {
   "cell_type": "code",
   "execution_count": 3,
   "metadata": {
    "execution": {
     "iopub.execute_input": "2020-08-16T09:47:29.839988Z",
     "iopub.status.busy": "2020-08-16T09:47:29.839784Z",
     "iopub.status.idle": "2020-08-16T09:47:29.862002Z",
     "shell.execute_reply": "2020-08-16T09:47:29.861345Z",
     "shell.execute_reply.started": "2020-08-16T09:47:29.839967Z"
    }
   },
   "outputs": [],
   "source": [
    "from tensorflow.keras.applications.mobilenet_v2 import preprocess_input\n",
    "from tensorflow.keras.preprocessing.image import img_to_array\n",
    "from tensorflow.keras.models import load_model\n",
    "from imutils.video import VideoStream\n",
    "import numpy as np\n",
    "import imutils\n",
    "import time\n",
    "import cv2\n",
    "import os"
   ]
  },
  {
   "cell_type": "markdown",
   "metadata": {},
   "source": [
    "## Set the locations for the face detection dependencies and mask detection model"
   ]
  },
  {
   "cell_type": "code",
   "execution_count": 4,
   "metadata": {
    "execution": {
     "iopub.execute_input": "2020-08-16T09:47:31.075480Z",
     "iopub.status.busy": "2020-08-16T09:47:31.075238Z",
     "iopub.status.idle": "2020-08-16T09:47:31.078926Z",
     "shell.execute_reply": "2020-08-16T09:47:31.078485Z",
     "shell.execute_reply.started": "2020-08-16T09:47:31.075459Z"
    }
   },
   "outputs": [],
   "source": [
    "args = {}\n",
    "args[\"face\"] = \"face_detector\"\n",
    "args[\"model\"] = \"mask_detector.model\"\n",
    "args[\"confidence\"] = 0.4"
   ]
  },
  {
   "cell_type": "markdown",
   "metadata": {},
   "source": [
    "## Load the prototxt file and weights required by the face detector caffemodel"
   ]
  },
  {
   "cell_type": "code",
   "execution_count": 5,
   "metadata": {
    "execution": {
     "iopub.execute_input": "2020-08-16T09:47:32.228891Z",
     "iopub.status.busy": "2020-08-16T09:47:32.228695Z",
     "iopub.status.idle": "2020-08-16T09:47:32.246252Z",
     "shell.execute_reply": "2020-08-16T09:47:32.245315Z",
     "shell.execute_reply.started": "2020-08-16T09:47:32.228871Z"
    },
    "tags": []
   },
   "outputs": [
    {
     "output_type": "stream",
     "name": "stdout",
     "text": "[INFO] loading face detector model...\n"
    }
   ],
   "source": [
    "print(\"[INFO] loading face detector model...\")\n",
    "prototxtPath = os.path.sep.join([args[\"face\"], \"deploy.prototxt\"])\n",
    "weightsPath = os.path.sep.join([args[\"face\"],\n",
    "\t\"res10_300x300_ssd_iter_140000.caffemodel\"])\n",
    "faceNet = cv2.dnn.readNet(prototxtPath, weightsPath)"
   ]
  },
  {
   "cell_type": "markdown",
   "metadata": {},
   "source": [
    "## Load the face mask detection model"
   ]
  },
  {
   "cell_type": "code",
   "execution_count": 6,
   "metadata": {
    "execution": {
     "iopub.execute_input": "2020-08-16T09:47:33.247192Z",
     "iopub.status.busy": "2020-08-16T09:47:33.246913Z",
     "iopub.status.idle": "2020-08-16T09:47:34.246335Z",
     "shell.execute_reply": "2020-08-16T09:47:34.245601Z",
     "shell.execute_reply.started": "2020-08-16T09:47:33.247168Z"
    },
    "tags": []
   },
   "outputs": [
    {
     "output_type": "stream",
     "name": "stdout",
     "text": "[INFO] loading face mask detector model...\n"
    }
   ],
   "source": [
    "print(\"[INFO] loading face mask detector model...\")\n",
    "maskNet = load_model(args[\"model\"])"
   ]
  },
  {
   "cell_type": "markdown",
   "metadata": {},
   "source": [
    "## Define a function to detect faces and predict the presence masks on them"
   ]
  },
  {
   "cell_type": "code",
   "execution_count": 7,
   "metadata": {
    "execution": {
     "iopub.execute_input": "2020-08-16T14:03:06.381024Z",
     "iopub.status.busy": "2020-08-16T14:03:06.380757Z",
     "iopub.status.idle": "2020-08-16T14:03:06.393866Z",
     "shell.execute_reply": "2020-08-16T14:03:06.393125Z",
     "shell.execute_reply.started": "2020-08-16T14:03:06.380998Z"
    }
   },
   "outputs": [],
   "source": [
    "def detect_and_predict_mask(frame, faceNet, maskNet):\n",
    "\t(h, w) = frame.shape[:2]\n",
    "\tblob = cv2.dnn.blobFromImage(frame, 1.0, (300, 300),\n",
    "\t\t(104.0, 177.0, 123.0))\n",
    "\n",
    "\tfaceNet.setInput(blob)\n",
    "\tdetections = faceNet.forward()\n",
    "\n",
    "\tfaces = []\n",
    "\tlocs = []\n",
    "\tpreds = []\n",
    "\n",
    "\tfor i in range(0, detections.shape[2]):\n",
    "\t\tconfidence = detections[0, 0, i, 2]\n",
    "\n",
    "\t\tif confidence > args[\"confidence\"]:\n",
    "\t\t\tbox = detections[0, 0, i, 3:7] * np.array([w, h, w, h])\n",
    "\t\t\t(startX, startY, endX, endY) = box.astype(\"int\")\n",
    "\n",
    "\t\t\t(startX, startY) = (max(0, startX), max(0, startY))\n",
    "\t\t\t(endX, endY) = (min(w - 1, endX), min(h - 1, endY))\n",
    "\n",
    "\t\t\tface = frame[startY:endY, startX:endX]\n",
    "\t\t\tface = cv2.cvtColor(face, cv2.COLOR_BGR2RGB)\n",
    "\t\t\tface = cv2.resize(face, (224, 224))\n",
    "\t\t\tface = img_to_array(face)\n",
    "\t\t\tface = preprocess_input(face)\n",
    "\n",
    "\t\t\tfaces.append(face)\n",
    "\t\t\tlocs.append((startX, startY, endX, endY))\n",
    "\n",
    "\tif len(faces) > 0:\n",
    "\n",
    "\t\tfaces = np.array(faces, dtype=\"float32\")\n",
    "\t\tpreds = maskNet.predict(faces, batch_size=32)\n",
    "\n",
    "\treturn (locs, preds)"
   ]
  },
  {
   "cell_type": "markdown",
   "metadata": {},
   "source": [
    "## Detect masks in the frames extracted from the input video"
   ]
  },
  {
   "cell_type": "code",
   "execution_count": 13,
   "metadata": {
    "execution": {
     "iopub.execute_input": "2020-08-16T14:12:07.574049Z",
     "iopub.status.busy": "2020-08-16T14:12:07.573632Z",
     "iopub.status.idle": "2020-08-16T14:12:09.597212Z",
     "shell.execute_reply": "2020-08-16T14:12:09.595521Z",
     "shell.execute_reply.started": "2020-08-16T14:12:07.574024Z"
    },
    "tags": []
   },
   "outputs": [
    {
     "output_type": "stream",
     "name": "stdout",
     "text": "[INFO] loading input video...\n"
    }
   ],
   "source": [
    "print(\"[INFO] loading input video...\")\n",
    "input_name = \"input1\"\n",
    "input_file =  \"dataset/videos/\" + input_name + \".mov\"\n",
    "cam = cv2.VideoCapture(input_file)\n",
    "fps = cam.get(cv2.CAP_PROP_FPS)\n",
    "count = 0\n",
    "if not os.path.isdir('Frames/' + input_name):\n",
    "\tos.mkdir('Frames/' + input_name)\n",
    "\n",
    "while True:\n",
    "\tsucess, frame = cam.read()\n",
    "\tif frame is None:\n",
    "\t\tbreak\n",
    "\tframe = imutils.resize(frame, width=400)\n",
    "\t(locs, preds) = detect_and_predict_mask(frame, faceNet, maskNet)\n",
    "\n",
    "\tfor (box, pred) in zip(locs, preds):\n",
    "\n",
    "\t\t(startX, startY, endX, endY) = box\n",
    "\t\t(mask, withoutMask) = pred\n",
    "\n",
    "\t\tlabel = \"Mask\" if mask > withoutMask else \"No Mask\"\n",
    "\t\tcolor = (0, 255, 0) if label == \"Mask\" else (0, 0, 255)\n",
    "\n",
    "\t\tlabel = \"{}: {:.2f}%\".format(label, max(mask, withoutMask) * 100)\n",
    "\n",
    "\t\tcv2.putText(frame, label, (startX, startY - 10),\n",
    "\t\t\tcv2.FONT_HERSHEY_SIMPLEX, 0.45, color, 2)\n",
    "\t\tcv2.rectangle(frame, (startX, startY), (endX, endY), color, 2)\n",
    "\n",
    "\tcv2.imwrite(\"Frames/{}/{}_frame.jpg\".format(input_name, count), frame)\n",
    "\tcount += 1"
   ]
  },
  {
   "cell_type": "markdown",
   "metadata": {},
   "source": [
    "## Generate the output video from the detection frames"
   ]
  },
  {
   "cell_type": "code",
   "execution_count": 11,
   "metadata": {},
   "outputs": [],
   "source": [
    "def generate_video(): \n",
    "    image_folder = os.path.join('Frames', input_name) \n",
    "    video_file = 'outputs/videos/output.mp4'\n",
    "    print(image_folder)\n",
    "\n",
    "    if os.path.exists(video_file):\n",
    "        os.remove(video_file)\n",
    "\n",
    "    images = [img for img in os.listdir(image_folder)\n",
    "              if img.endswith(\".jpg\") or\n",
    "                 img.endswith(\".jpeg\") or\n",
    "                 img.endswith(\".png\")] \n",
    "\n",
    "    images.sort(key = lambda f: int(f.replace('_frame.jpg','')))\n",
    "    images.sort(key = lambda f: int(f.replace('_frame.jpeg','')))\n",
    "    images.sort(key = lambda f: int(f.replace('_frame.png','')))\n",
    "\n",
    "    print(len(images))\n",
    "\n",
    "    frame = cv2.imread(os.path.join(image_folder, images[0])) \n",
    "    height, width, layers = frame.shape  \n",
    "\n",
    "    img_array = []\n",
    "    out = cv2.VideoWriter(video_file,cv2.VideoWriter_fourcc(*'DIVX'), fps, (width, height))\n",
    "\n",
    "    for filename in images:\n",
    "        img_array = cv2.imread(os.path.join(image_folder, filename))\n",
    "        out.write(img_array)\n",
    "\n",
    "    out.release()\n",
    "        "
   ]
  },
  {
   "cell_type": "code",
   "execution_count": 12,
   "metadata": {
    "tags": []
   },
   "outputs": [
    {
     "output_type": "stream",
     "name": "stdout",
     "text": "Frames/input1\n0\n"
    },
    {
     "output_type": "error",
     "ename": "IndexError",
     "evalue": "list index out of range",
     "traceback": [
      "\u001b[0;31m---------------------------------------------------------------------------\u001b[0m",
      "\u001b[0;31mIndexError\u001b[0m                                Traceback (most recent call last)",
      "\u001b[0;32m<ipython-input-12-509721d7df78>\u001b[0m in \u001b[0;36m<module>\u001b[0;34m\u001b[0m\n\u001b[0;32m----> 1\u001b[0;31m \u001b[0mgenerate_video\u001b[0m\u001b[0;34m(\u001b[0m\u001b[0;34m)\u001b[0m\u001b[0;34m\u001b[0m\u001b[0;34m\u001b[0m\u001b[0m\n\u001b[0m",
      "\u001b[0;32m<ipython-input-11-dfdbd6fa30d6>\u001b[0m in \u001b[0;36mgenerate_video\u001b[0;34m()\u001b[0m\n\u001b[1;32m     18\u001b[0m     \u001b[0mprint\u001b[0m\u001b[0;34m(\u001b[0m\u001b[0mlen\u001b[0m\u001b[0;34m(\u001b[0m\u001b[0mimages\u001b[0m\u001b[0;34m)\u001b[0m\u001b[0;34m)\u001b[0m\u001b[0;34m\u001b[0m\u001b[0;34m\u001b[0m\u001b[0m\n\u001b[1;32m     19\u001b[0m \u001b[0;34m\u001b[0m\u001b[0m\n\u001b[0;32m---> 20\u001b[0;31m     \u001b[0mframe\u001b[0m \u001b[0;34m=\u001b[0m \u001b[0mcv2\u001b[0m\u001b[0;34m.\u001b[0m\u001b[0mimread\u001b[0m\u001b[0;34m(\u001b[0m\u001b[0mos\u001b[0m\u001b[0;34m.\u001b[0m\u001b[0mpath\u001b[0m\u001b[0;34m.\u001b[0m\u001b[0mjoin\u001b[0m\u001b[0;34m(\u001b[0m\u001b[0mimage_folder\u001b[0m\u001b[0;34m,\u001b[0m \u001b[0mimages\u001b[0m\u001b[0;34m[\u001b[0m\u001b[0;36m0\u001b[0m\u001b[0;34m]\u001b[0m\u001b[0;34m)\u001b[0m\u001b[0;34m)\u001b[0m\u001b[0;34m\u001b[0m\u001b[0;34m\u001b[0m\u001b[0m\n\u001b[0m\u001b[1;32m     21\u001b[0m     \u001b[0mheight\u001b[0m\u001b[0;34m,\u001b[0m \u001b[0mwidth\u001b[0m\u001b[0;34m,\u001b[0m \u001b[0mlayers\u001b[0m \u001b[0;34m=\u001b[0m \u001b[0mframe\u001b[0m\u001b[0;34m.\u001b[0m\u001b[0mshape\u001b[0m\u001b[0;34m\u001b[0m\u001b[0;34m\u001b[0m\u001b[0m\n\u001b[1;32m     22\u001b[0m \u001b[0;34m\u001b[0m\u001b[0m\n",
      "\u001b[0;31mIndexError\u001b[0m: list index out of range"
     ]
    }
   ],
   "source": [
    "generate_video()"
   ]
  },
  {
   "cell_type": "code",
   "execution_count": null,
   "metadata": {},
   "outputs": [],
   "source": []
  }
 ],
 "metadata": {
  "kernelspec": {
   "display_name": "Python 3",
   "language": "python",
   "name": "python3"
  },
  "language_info": {
   "codemirror_mode": {
    "name": "ipython",
    "version": 3
   },
   "file_extension": ".py",
   "mimetype": "text/x-python",
   "name": "python",
   "nbconvert_exporter": "python",
   "pygments_lexer": "ipython3",
   "version": "3.8.5-final"
  }
 },
 "nbformat": 4,
 "nbformat_minor": 4
}